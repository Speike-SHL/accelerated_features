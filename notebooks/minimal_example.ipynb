{
 "cells": [
  {
   "cell_type": "markdown",
   "metadata": {
    "id": "2tDj94al5GAJ"
   },
   "source": [
    "# XFeat minimal inference example\n",
    "\n",
    "涉及的函数:\n",
    "1. 单张图像特征点检测和描述子计算:  `output = xfeat.detectAndCompute(tensor类型的图像, top_k)[0]`，输入包含了从该图像中获取的特征点、描述子和评分\n",
    "2. 两张图像稀疏匹配： `图像1匹配点像素坐标<列表>, 图像2匹配点像素坐标<列表> = xfeat.match_xfeat(图像1, 图像2, top_k)`\n",
    "3. 两张图像半稠密匹配：`图像1匹配点像素坐标<列表>, 图像2匹配点像素坐标<列表> = xfeat.match_xfeat_star(图像1, 图像2, top_k)`\n",
    "\n",
    "还可用批处理模式，此时上面的输出可能略有改变"
   ]
  },
  {
   "cell_type": "markdown",
   "metadata": {
    "id": "X8MPXBro5IFv"
   },
   "source": [
    "## Clone repository  改变工作目录"
   ]
  },
  {
   "cell_type": "code",
   "execution_count": 7,
   "metadata": {
    "colab": {
     "base_uri": "https://localhost:8080/"
    },
    "id": "tVkH1ChzNcLW",
    "outputId": "da9a9474-76bd-4b66-8ecd-8ba0022f030e"
   },
   "source": [
    "# 在shell中执行\n",
    "# !cd /content && git clone 'https://github.com/verlab/accelerated_features.git'\n",
    "# 改变当前的工作目录\n",
    "# %cd /content/accelerated_features\n",
    "%cd ~/accelerated_features/"
   ],
   "outputs": []
  },
  {
   "cell_type": "markdown",
   "metadata": {
    "id": "32T-WzfU5NRH"
   },
   "source": [
    "## Test on simple input (sparse setting)\n",
    "\n",
    "简单输入的测试，一次输入一个图像"
   ]
  },
  {
   "cell_type": "code",
   "execution_count": 8,
   "metadata": {
    "colab": {
     "base_uri": "https://localhost:8080/"
    },
    "id": "o1TMnCEfNfvD",
    "outputId": "f59757f5-477a-4642-e955-7a5abefe3c21"
   },
   "source": [
    "import numpy as np\n",
    "import os\n",
    "import torch\n",
    "import tqdm\n",
    "\n",
    "from modules.xfeat import XFeat\n",
    "\n",
    "xfeat = XFeat()\n",
    "\n",
    "# 随机输入，生成一个(1,3,480,640)的张量, 代表一个大小为480x640的3通道图像\n",
    "x = torch.randn(1,3,480,640)\n",
    "\n",
    "# batch = 1, 对单张tensor类型的图像进行特征点检测和描述子计算，返回一个列表，列表的第一个元素是字典，包含了检测到的特征点、描述子和分数\n",
    "output = xfeat.detectAndCompute(x, top_k = 4096)[0]\n",
    "print(\"----------------\")\n",
    "print(\"keypoints: \", output['keypoints'].shape)\n",
    "print(\"descriptors: \", output['descriptors'].shape)\n",
    "print(\"scores: \", output['scores'].shape)\n",
    "print(\"----------------\\n\")"
   ],
   "outputs": []
  },
  {
   "cell_type": "markdown",
   "metadata": {
    "id": "8b9C09ya5UwL"
   },
   "source": [
    "## Stress test to check FPS on VGA (sparse setting)\n",
    "对VGA进行压力测试，检查在稀疏设置下的每秒帧数（FPS）\n",
    "\n",
    "蛟龙16, CPU AMD R7 6800h, GPU 3060  \n",
    "480x640 230FPS/s  \n",
    "1080x1920 55FPS/s  "
   ]
  },
  {
   "cell_type": "code",
   "execution_count": 16,
   "metadata": {
    "colab": {
     "base_uri": "https://localhost:8080/"
    },
    "id": "Zsjz-QT95ZrM",
    "outputId": "2df6f545-419f-4cc3-ad8b-bf5e12741dba"
   },
   "source": [
    "x = torch.randn(1,3,480,640)\n",
    "\n",
    "# Stress test\n",
    "for i in tqdm.tqdm(range(100), desc=\"Stress test on VGA resolution\"):\n",
    "\toutput = xfeat.detectAndCompute(x, top_k = 4096)\n"
   ],
   "outputs": []
  },
  {
   "cell_type": "markdown",
   "metadata": {
    "id": "1jAl-ejS5du_"
   },
   "source": [
    "## Test with batched mode (sparse)\n",
    "\n",
    "批量模式的测试，一次输入4个图像"
   ]
  },
  {
   "cell_type": "code",
   "execution_count": 17,
   "metadata": {
    "colab": {
     "base_uri": "https://localhost:8080/"
    },
    "id": "lAarS8UH5gyg",
    "outputId": "883f13f8-3fac-48f2-c0a3-656a81b57f2c"
   },
   "source": [
    "# Batched mode\n",
    "x = torch.randn(4,3,480,640)\n",
    "outputs = xfeat.detectAndCompute(x, top_k = 4096)\n",
    "print(\"# detected features on each batch item:\", [len(o['keypoints']) for o in outputs])"
   ],
   "outputs": []
  },
  {
   "cell_type": "markdown",
   "metadata": {
    "id": "H60iMAlh5nqP"
   },
   "source": [
    "## Matches two images with built-in MNN matcher (sparse mode)\n",
    "\n",
    "使用内置的MNN(最小化最近邻)匹配器匹配两幅图像，稀疏模式"
   ]
  },
  {
   "cell_type": "code",
   "execution_count": 18,
   "metadata": {
    "id": "6N-ZqoMZ5syf"
   },
   "source": [
    "# Match two images with sparse features\n",
    "x1 = torch.randn(1,3,480,640)\n",
    "x2 = torch.randn(1,3,480,640)\n",
    "mkpts_0, mkpts_1 = xfeat.match_xfeat(x1, x2)"
   ],
   "outputs": []
  },
  {
   "cell_type": "markdown",
   "metadata": {
    "id": "MOV4vZDp5v9_"
   },
   "source": [
    "## Matches two images with semi-dense matching, and batched mode (batch size = 4) for demonstration purpose\n",
    "\n",
    "使用半稠密和批处理(batch size = 4)匹配两幅图像"
   ]
  },
  {
   "cell_type": "code",
   "execution_count": 19,
   "metadata": {
    "colab": {
     "base_uri": "https://localhost:8080/"
    },
    "id": "Axe0o6U85zGV",
    "outputId": "e1257959-24fc-4194-b2f1-ee06cf450b24"
   },
   "source": [
    "# Create 4 image pairs\n",
    "x1 = torch.randn(4,3,480,640)\n",
    "x2 = torch.randn(4,3,480,640)\n",
    "\n",
    "#Obtain matches for each batch item\n",
    "matches_list = xfeat.match_xfeat_star(x1, x2, top_k = 5000)\n",
    "print('number of img pairs', len(matches_list))\n",
    "print(matches_list[0].shape) # -> output is (x1,y1,x2,y2)"
   ],
   "outputs": []
  }
 ],
 "metadata": {
  "colab": {
   "provenance": []
  },
  "kernelspec": {
   "display_name": "Python 3",
   "name": "python3"
  },
  "language_info": {
   "codemirror_mode": {
    "name": "ipython",
    "version": 3
   },
   "file_extension": ".py",
   "mimetype": "text/x-python",
   "name": "python",
   "nbconvert_exporter": "python",
   "pygments_lexer": "ipython3",
   "version": "3.8.19"
  }
 },
 "nbformat": 4,
 "nbformat_minor": 0
}
